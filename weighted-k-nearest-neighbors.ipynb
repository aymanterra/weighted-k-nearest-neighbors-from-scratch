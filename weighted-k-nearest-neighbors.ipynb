{
 "cells": [
  {
   "cell_type": "markdown",
   "metadata": {},
   "source": [
    "# Weighted K-Nearest Neighbors algorithm (KNN) From Scratch"
   ]
  },
  {
   "cell_type": "markdown",
   "metadata": {},
   "source": [
    "### Weighted  K-Nearest Neighbors algorithm (KNN)\n",
    "- Supervised Learning (Classification).\n",
    "- Non-linear Classifier.\n",
    "- Using ($1/d$) as a weight to classify where d is the Euclidean distance.\n",
    "- Using Euclidean distance to calculate the distances.\n",
    "- Using k-fold Cross-Validation to get best K (KNN) in the provided range."
   ]
  },
  {
   "cell_type": "markdown",
   "metadata": {},
   "source": [
    "#### Using the K-Nearest Keigbors technique with weighted distances ($1/d$) to classify the data.\n",
    "\n",
    "- Take the maximum k value as input (M) and find the best k that minimize the error by validate each k from 1 to (M). \n",
    "- Take the (L) as parameter which used to make a k-fold cross-validation (don't be confused butween k in KNN technique and the k in k-fold cross-validation they are different).\n",
    "\n",
    "$$k = argmin_k(\\bar{E_k})$$\n",
    "where \n",
    "$$\\bar{E_k} = \\frac{1}{L}\\sum_{l=1}^{L}E_l$$"
   ]
  },
  {
   "cell_type": "markdown",
   "metadata": {},
   "source": [
    "### For more info please check:\n",
    "- <a href=\"https://en.wikipedia.org/wiki/K-nearest_neighbors_algorithm\">k-nearest neighbors algorithm</a>\n",
    "- <a href=\"https://en.wikipedia.org/wiki/Euclidean_distance\">Euclidean distance</a>\n",
    "- <a href=\"https://en.wikipedia.org/wiki/Cross-validation_(statistics)\">Cross-validation (statistics)</a>"
   ]
  },
  {
   "cell_type": "code",
   "execution_count": 1,
   "metadata": {},
   "outputs": [],
   "source": [
    "import numpy as np\n",
    "import matplotlib.pyplot as plt\n",
    "from scipy import stats"
   ]
  },
  {
   "cell_type": "code",
   "execution_count": null,
   "metadata": {},
   "outputs": [],
   "source": []
  },
  {
   "cell_type": "code",
   "execution_count": 2,
   "metadata": {},
   "outputs": [],
   "source": [
    "class weighted_k_nearest_neighbors:\n",
    "    def predict(self, X):\n",
    "        if (hasattr(self, 'X') & hasattr(self, 'K') & hasattr(self, 't')):\n",
    "            t_predicted = self.__predict(self.X, self.t, X, self.K)\n",
    "            return t_predicted\n",
    "        else:\n",
    "            print('Please run fit in order to be able to use predict')\n",
    "        \n",
    "    def plot_avarage_error(self):\n",
    "        if (hasattr(self, 'M') & hasattr(self, 'errors_mean')):\n",
    "            plt.plot(range(1, self.M + 1), self.errors_mean)\n",
    "            plt.xlabel('k')\n",
    "            plt.xticks(range(1, self.M + 1))\n",
    "            plt.ylabel('Avarage Error')\n",
    "            plt.title('k vs Avarage Error')\n",
    "            plt.show()\n",
    "        else:\n",
    "            print('Please run fit in order to be able to plot avarage error')\n",
    "            \n",
    "    def accuracy(self, y_actual, y_predicted):\n",
    "        return np.mean(y_actual == y_predicted) * 100\n",
    "    \n",
    "    def __predict(self, X_train, t_train, X_predict, k):\n",
    "        t_predicted = np.zeros(len(X_predict))\n",
    "        \n",
    "        # To be added to values to avoid dividing by zero\n",
    "        epsilon = 1e-20\n",
    "        \n",
    "        for i, x in enumerate(X_predict):\n",
    "            d = np.sqrt(np.sum((X_train - x)**2, axis=1))\n",
    "            d_order = np.argsort(d)\n",
    "            d_ordered = d[d_order]\n",
    "            t_train_ordered = t_train[d_order]\n",
    "            \n",
    "            k_d_ordered = d_ordered[0:k]\n",
    "            k_t_train_ordered = t_train_ordered[0:k]\n",
    "            classes = np.sort(np.unique(k_t_train_ordered))\n",
    "            weight_per_class = np.zeros((len(classes),2))\n",
    "            \n",
    "            for j, c in enumerate(classes):\n",
    "                class_weight = np.sum(1/(epsilon + k_d_ordered[k_t_train_ordered == c]))\n",
    "                weight_per_class[j] = np.array([c, class_weight])\n",
    "            \n",
    "            t_predicted[i] = weight_per_class[weight_per_class.argmax(axis=0)[1]][0]\n",
    "        return t_predicted\n",
    "    \n",
    "    def fit(self, X, t, M, L = 10):\n",
    "        if (int(M) != M or M <= 0 or int(L) != L or L <= 0):\n",
    "            print(\"The maximum number of neighbors to check ( M ) or the number of partitions ( L ) \"\n",
    "                  + \"must be integer more than zero\")\n",
    "            return\n",
    "\n",
    "        self.N = len(t)\n",
    "        \n",
    "        if (L > self.N):\n",
    "            print(\"The number of partitions ( L ) can't be more than the length of the entered data\")\n",
    "            return\n",
    "        \n",
    "        if (M > self.N):\n",
    "            print(\"The maximum number of neighbors to check ( M ) \"\n",
    "                  + \"can't be more than the length of the entered data\")\n",
    "            return\n",
    "\n",
    "        self.X = X\n",
    "        self.t = t\n",
    "        self.M = M\n",
    "        self.L = L\n",
    "        \n",
    "        self.errors_mean = np.zeros(self.M)\n",
    "        \n",
    "        partition = int(self.N/L)\n",
    "        \n",
    "        for k in range(self.M):\n",
    "            k += 1\n",
    "            err = 0\n",
    "            \n",
    "            for l in range(0, self.N, partition):\n",
    "                X_training = np.append(self.X[0:l,:], self.X[l+partition:self.N,:], axis=0)\n",
    "                t_training = np.append(self.t[0:l], self.t[l+partition:self.N], axis=0)\n",
    "                \n",
    "                X_validation = self.X[l:l+partition,:]\n",
    "                t_validation = self.t[l:l+partition]\n",
    "                \n",
    "                t_predected = self.__predict(X_training, t_training, X_validation, k)\n",
    "                \n",
    "                err += np.mean(t_predected != t_validation)\n",
    "                \n",
    "            self.errors_mean[k-1] = err / L\n",
    "            \n",
    "        self.K = np.argmin(self.errors_mean) + 1\n",
    "        \n",
    "        print('Best K in the selected range (from 1 to {}) is {}'.format(self.M, self.K))"
   ]
  },
  {
   "cell_type": "code",
   "execution_count": null,
   "metadata": {},
   "outputs": [],
   "source": []
  },
  {
   "cell_type": "code",
   "execution_count": null,
   "metadata": {},
   "outputs": [],
   "source": []
  },
  {
   "cell_type": "code",
   "execution_count": null,
   "metadata": {},
   "outputs": [],
   "source": []
  },
  {
   "cell_type": "markdown",
   "metadata": {},
   "source": [
    "# Dataset 1"
   ]
  },
  {
   "cell_type": "markdown",
   "metadata": {},
   "source": [
    "### Training"
   ]
  },
  {
   "cell_type": "code",
   "execution_count": 3,
   "metadata": {},
   "outputs": [
    {
     "name": "stdout",
     "output_type": "stream",
     "text": [
      "Best K in the selected range (from 1 to 15) is 12\n"
     ]
    },
    {
     "data": {
      "image/png": "[encoded data removed]",
      "text/plain": [
       "<Figure size 432x288 with 1 Axes>"
      ]
     },
     "metadata": {
      "needs_background": "light"
     },
     "output_type": "display_data"
    }
   ],
   "source": [
    "Data = np.genfromtxt('synth.tr.csv', delimiter=',', skip_header=True)\n",
    "X = Data[:, 1:3]\n",
    "t = Data[:, 3]\n",
    "\n",
    "wknn = weighted_k_nearest_neighbors()\n",
    "wknn.fit(X, t, 15)\n",
    "wknn.plot_avarage_error()"
   ]
  },
  {
   "cell_type": "markdown",
   "metadata": {},
   "source": [
    "### Testing"
   ]
  },
  {
   "cell_type": "code",
   "execution_count": 4,
   "metadata": {},
   "outputs": [
    {
     "name": "stdout",
     "output_type": "stream",
     "text": [
      "Accuracy 89.2 %\n"
     ]
    }
   ],
   "source": [
    "Data_test = np.genfromtxt('synth.te.csv', delimiter=',', skip_header=True)\n",
    "X_test = Data_test[:, 1:3]\n",
    "y_actual = Data_test[:, 3]\n",
    "y_predicted = wknn.predict(X_test)\n",
    "acc = wknn.accuracy(y_actual, y_predicted)\n",
    "print('Accuracy', acc, '%')"
   ]
  },
  {
   "cell_type": "code",
   "execution_count": null,
   "metadata": {},
   "outputs": [],
   "source": []
  },
  {
   "cell_type": "code",
   "execution_count": null,
   "metadata": {},
   "outputs": [],
   "source": []
  },
  {
   "cell_type": "code",
   "execution_count": null,
   "metadata": {},
   "outputs": [],
   "source": []
  },
  {
   "cell_type": "markdown",
   "metadata": {},
   "source": [
    "# Dataset 2"
   ]
  },
  {
   "cell_type": "markdown",
   "metadata": {},
   "source": [
    "### Training"
   ]
  },
  {
   "cell_type": "code",
   "execution_count": 5,
   "metadata": {},
   "outputs": [
    {
     "name": "stdout",
     "output_type": "stream",
     "text": [
      "Best K in the selected range (from 1 to 10) is 1\n"
     ]
    },
    {
     "data": {
      "image/png": "[encoded data removed]",
      "text/plain": [
       "<Figure size 432x288 with 1 Axes>"
      ]
     },
     "metadata": {
      "needs_background": "light"
     },
     "output_type": "display_data"
    }
   ],
   "source": [
    "Data2 = np.genfromtxt('Data1.txt')\n",
    "# Data2 = Data2[Data2[:,0] < 40] # Without outliers\n",
    "X2 = Data2[:, 0:2]\n",
    "t2 = np.array([1 if i >= 0 else 0 for i in Data2[:, 2]])\n",
    "\n",
    "wknn2 = weighted_k_nearest_neighbors()\n",
    "wknn2.fit(X2, t2, 10)\n",
    "wknn2.plot_avarage_error()"
   ]
  },
  {
   "cell_type": "markdown",
   "metadata": {},
   "source": [
    "### Testing"
   ]
  },
  {
   "cell_type": "code",
   "execution_count": 6,
   "metadata": {},
   "outputs": [
    {
     "name": "stdout",
     "output_type": "stream",
     "text": [
      "Accuracy 100.0 %\n"
     ]
    }
   ],
   "source": [
    "Data2_test = np.genfromtxt('Test1.txt')\n",
    "X2_test = Data2_test[:, 0:2]\n",
    "# y2_actual = np.array([1 if i >= 0 else 0 for i in Data2_test[:, 2]])\n",
    "y2_predicted = wknn2.predict(X2_test)\n",
    "y2_actual = np.array(y2_predicted) # As there is no labels in test dataset\n",
    "acc2 = wknn2.accuracy(y2_actual, y2_predicted)\n",
    "print('Accuracy', acc2, '%')"
   ]
  },
  {
   "cell_type": "code",
   "execution_count": null,
   "metadata": {},
   "outputs": [],
   "source": []
  },
  {
   "cell_type": "code",
   "execution_count": null,
   "metadata": {},
   "outputs": [],
   "source": []
  },
  {
   "cell_type": "code",
   "execution_count": null,
   "metadata": {},
   "outputs": [],
   "source": []
  },
  {
   "cell_type": "code",
   "execution_count": null,
   "metadata": {},
   "outputs": [],
   "source": []
  },
  {
   "cell_type": "markdown",
   "metadata": {},
   "source": [
    "# Dataset 3"
   ]
  },
  {
   "cell_type": "markdown",
   "metadata": {},
   "source": [
    "### Training"
   ]
  },
  {
   "cell_type": "code",
   "execution_count": 7,
   "metadata": {},
   "outputs": [],
   "source": [
    "from sklearn.datasets import make_classification\n"
   ]
  },
  {
   "cell_type": "code",
   "execution_count": 8,
   "metadata": {},
   "outputs": [
    {
     "name": "stdout",
     "output_type": "stream",
     "text": [
      "Best K in the selected range (from 1 to 10) is 8\n"
     ]
    },
    {
     "data": {
      "image/png": "[encoded data removed]",
      "text/plain": [
       "<Figure size 432x288 with 1 Axes>"
      ]
     },
     "metadata": {
      "needs_background": "light"
     },
     "output_type": "display_data"
    }
   ],
   "source": [
    "X3, t3 = make_classification(n_samples=1000, n_features=2, n_redundant=0, n_informative=1,\n",
    "                             n_clusters_per_class=1, random_state=14, class_sep=1, n_classes=2)\n",
    "\n",
    "wknn3 = weighted_k_nearest_neighbors()\n",
    "wknn3.fit(X3, t3, 10)\n",
    "wknn3.plot_avarage_error()"
   ]
  },
  {
   "cell_type": "markdown",
   "metadata": {},
   "source": [
    "### Testing"
   ]
  },
  {
   "cell_type": "code",
   "execution_count": 9,
   "metadata": {},
   "outputs": [
    {
     "name": "stdout",
     "output_type": "stream",
     "text": [
      "Accuracy 98.0 %\n"
     ]
    }
   ],
   "source": [
    "X3_test, y3_actual = make_classification(n_samples=300, n_features=2, n_redundant=0, n_informative=1,\n",
    "                             n_clusters_per_class=1, random_state=14, class_sep=1, n_classes=2)\n",
    "\n",
    "y3_predicted = wknn3.predict(X3_test)\n",
    "acc3 = wknn3.accuracy(y3_predicted, y3_actual)\n",
    "print('Accuracy', acc3, '%')"
   ]
  },
  {
   "cell_type": "code",
   "execution_count": null,
   "metadata": {},
   "outputs": [],
   "source": []
  }
 ],
 "metadata": {
  "kernelspec": {
   "display_name": "Python 3",
   "language": "python",
   "name": "python3"
  },
  "language_info": {
   "codemirror_mode": {
    "name": "ipython",
    "version": 3
   },
   "file_extension": ".py",
   "mimetype": "text/x-python",
   "name": "python",
   "nbconvert_exporter": "python",
   "pygments_lexer": "ipython3",
   "version": "3.7.3"
  }
 },
 "nbformat": 4,
 "nbformat_minor": 2
}
